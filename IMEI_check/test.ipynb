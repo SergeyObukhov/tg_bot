{
 "cells": [
  {
   "cell_type": "markdown",
   "metadata": {},
   "source": [
    "Проверка баланса"
   ]
  },
  {
   "cell_type": "code",
   "execution_count": 25,
   "metadata": {},
   "outputs": [
    {
     "name": "stdout",
     "output_type": "stream",
     "text": [
      "0.0\n"
     ]
    }
   ],
   "source": [
    "import requests\n",
    "import json\n",
    "\n",
    "# Base URL\n",
    "url = 'https://api.imeicheck.net/v1/account'\n",
    "\n",
    "token = 'sy5woSxuac7xKalljXFjgbB2hCRw7GQLueRtGp1974d8fe72'\n",
    "\n",
    "# Add necessary headers\n",
    "headers = {\n",
    "    'Authorization': 'Bearer ' + token,\n",
    "    'Content-Type': 'application/json'\n",
    "}\n",
    "\n",
    "# Execute request\n",
    "response = requests.get(url, headers=headers)\n",
    "\n",
    "# Assign balance to var in float format\n",
    "balance = float(json.loads(response.text)['balance'])\n",
    "\n",
    "print(balance)"
   ]
  },
  {
   "cell_type": "markdown",
   "metadata": {},
   "source": [
    "Увы, денег нет"
   ]
  },
  {
   "cell_type": "markdown",
   "metadata": {},
   "source": [
    "Запрос информации по EMAI"
   ]
  },
  {
   "cell_type": "code",
   "execution_count": 38,
   "metadata": {},
   "outputs": [
    {
     "name": "stdout",
     "output_type": "stream",
     "text": [
      "{'message': 'Please replenish your account before proceeding'}\n"
     ]
    }
   ],
   "source": [
    "import requests\n",
    "import json\n",
    "\n",
    "# Base URL\n",
    "url = 'https://api.imeicheck.net/v1/checks'\n",
    "\n",
    "token = 'sy5woSxuac7xKalljXFjgbB2hCRw7GQLueRtGp1974d8fe72'\n",
    "\n",
    "# Add necessary headers\n",
    "headers = {\n",
    "    'Authorization': 'Bearer ' + token,\n",
    "    'Content-Type': 'application/json'\n",
    "}\n",
    "\n",
    "# Add body\n",
    "body =  json.dumps({\n",
    "    \"deviceId\": \"356735111052198\",\n",
    "    \"serviceId\": 1\n",
    "})\n",
    "\n",
    "# Execute request\n",
    "response = requests.post(url, headers=headers, data=body)\n",
    "\n",
    "print(response.json())"
   ]
  },
  {
   "cell_type": "markdown",
   "metadata": {},
   "source": [
    "Говорит денег нет, но вы держитесь там."
   ]
  },
  {
   "cell_type": "markdown",
   "metadata": {},
   "source": [
    "Посмотрим историю запросов"
   ]
  },
  {
   "cell_type": "code",
   "execution_count": 42,
   "metadata": {},
   "outputs": [
    {
     "name": "stdout",
     "output_type": "stream",
     "text": [
      "{'id': '-0faGNGCba7l9tbE', 'type': 'api', 'status': 'successful', 'orderId': None, 'service': {'id': 24, 'title': 'Model/Product Description'}, 'amount': '0.03', 'deviceId': '356735111052198', 'processedAt': 1737658565, 'properties': {'deviceName': 'IPHONE 12 PRO MAX GOLD 512GB-ITS', 'imei': '356735111052198', 'modelDesc': 'IPHONE 12 PRO MAX GOLD 512GB-ITS'}}\n",
      "{'id': 'CYx_JSOLizWTdx4a', 'type': 'api', 'status': 'successful', 'orderId': None, 'service': {'id': 1, 'title': 'Apple Basic Info'}, 'amount': '0.06', 'deviceId': '356735111052198', 'processedAt': 1737655347, 'properties': {'deviceName': 'iPhone 12 Pro Max 512GB Gold [A2412] [iPhone13,4]', 'image': 'https://sources.imeicheck.net/images/face55f8067fbf4c42ba0d5a22cfd9a5.png', 'imei': '356735111052198', 'imei2': '356735111256724', 'serial': 'G6TDN2RS0D5Q', 'meid': '35673511105219', 'estPurchaseDate': 1605225600, 'modelDesc': 'IPHONE 12 PRO MAX GOLD 512GB-ITS', 'replacement': False, 'demoUnit': False, 'refurbished': False, 'apple/region': 'ITS', 'simLock': False, 'fmiOn': True, 'replaced': False, 'warrantyStatus': 'Out Of Warranty', 'repairCoverage': False, 'technicalSupport': False, 'apple/modelName': 'iPhone 12 Pro Max', 'loaner': False, 'lostMode': False, 'usaBlockStatus': 'Clean', 'network': 'China'}}\n",
      "{'id': '_ZHFs9VicUTDTUvv', 'type': 'api', 'status': 'unsuccessful', 'orderId': None, 'service': {'id': 1, 'title': 'Apple Basic Info'}, 'amount': '0.00', 'deviceId': '863274074003267', 'processedAt': 1737655275, 'properties': []}\n",
      "{'id': 'F9qdx41Zo8plUp7h', 'type': 'api', 'status': 'successful', 'orderId': None, 'service': {'id': 1, 'title': 'Apple Basic Info'}, 'amount': '0.06', 'deviceId': '356735111052198', 'processedAt': 1737655259, 'properties': {'deviceName': 'iPhone 12 Pro Max 512GB Gold [A2412] [iPhone13,4]', 'image': 'https://sources.imeicheck.net/images/face55f8067fbf4c42ba0d5a22cfd9a5.png', 'imei': '356735111052198', 'imei2': '356735111256724', 'serial': 'G6TDN2RS0D5Q', 'meid': '35673511105219', 'estPurchaseDate': 1605225600, 'modelDesc': 'IPHONE 12 PRO MAX GOLD 512GB-ITS', 'replacement': False, 'demoUnit': False, 'refurbished': False, 'apple/region': 'ITS', 'simLock': False, 'fmiOn': True, 'replaced': False, 'warrantyStatus': 'Out Of Warranty', 'repairCoverage': False, 'technicalSupport': False, 'apple/modelName': 'iPhone 12 Pro Max', 'loaner': False, 'lostMode': False, 'usaBlockStatus': 'Clean', 'network': 'China'}}\n",
      "{'id': '3WSwwdDUxBgp1RLW', 'type': 'api', 'status': 'successful', 'orderId': None, 'service': {'id': 1, 'title': 'Apple Basic Info'}, 'amount': '0.06', 'deviceId': '356735111052198', 'processedAt': 1737655147, 'properties': {'deviceName': 'iPhone 12 Pro Max 512GB Gold [A2412] [iPhone13,4]', 'image': 'https://sources.imeicheck.net/images/face55f8067fbf4c42ba0d5a22cfd9a5.png', 'imei': '356735111052198', 'imei2': '356735111256724', 'serial': 'G6TDN2RS0D5Q', 'meid': '35673511105219', 'estPurchaseDate': 1605225600, 'modelDesc': 'IPHONE 12 PRO MAX GOLD 512GB-ITS', 'replacement': False, 'demoUnit': False, 'refurbished': False, 'apple/region': 'ITS', 'simLock': False, 'fmiOn': True, 'replaced': False, 'warrantyStatus': 'Out Of Warranty', 'repairCoverage': False, 'technicalSupport': False, 'apple/modelName': 'iPhone 12 Pro Max', 'loaner': False, 'lostMode': False, 'usaBlockStatus': 'Clean', 'network': 'China'}}\n",
      "{'id': 'fiZafrtq7igR2RHu', 'type': 'api', 'status': 'unsuccessful', 'orderId': None, 'service': {'id': 1, 'title': 'Apple Basic Info'}, 'amount': '0.00', 'deviceId': '863274074003267', 'processedAt': 1737655129, 'properties': []}\n",
      "{'id': 'LF5iv76CujPWJ5O5', 'type': 'api', 'status': 'unsuccessful', 'orderId': '2301252133028', 'service': {'id': 1, 'title': 'Apple Basic Info'}, 'amount': '0.00', 'deviceId': '863274074003267', 'processedAt': 1737655091, 'properties': []}\n",
      "{'id': 'jyLwOBl75KgouaS1', 'type': 'api', 'status': 'unsuccessful', 'orderId': None, 'service': {'id': 1, 'title': 'Apple Basic Info'}, 'amount': '0.00', 'deviceId': '863274074003267', 'processedAt': 1737654977, 'properties': []}\n",
      "{'id': 'IUhThEdch8bbccJO', 'type': 'api', 'status': 'unsuccessful', 'orderId': '2301252133027', 'service': {'id': 1, 'title': 'Apple Basic Info'}, 'amount': '0.00', 'deviceId': '863274074003267', 'processedAt': 1737654934, 'properties': []}\n",
      "{'id': 'VFGz4AWsOllVd_Nh', 'type': 'api', 'status': 'successful', 'orderId': None, 'service': {'id': 1, 'title': 'Apple Basic Info'}, 'amount': '0.06', 'deviceId': '356735111052198', 'processedAt': 1737654737, 'properties': {'deviceName': 'iPhone 12 Pro Max 512GB Gold [A2412] [iPhone13,4]', 'image': 'https://sources.imeicheck.net/images/face55f8067fbf4c42ba0d5a22cfd9a5.png', 'imei': '356735111052198', 'imei2': '356735111256724', 'serial': 'G6TDN2RS0D5Q', 'meid': '35673511105219', 'estPurchaseDate': 1605225600, 'modelDesc': 'IPHONE 12 PRO MAX GOLD 512GB-ITS', 'replacement': False, 'demoUnit': False, 'refurbished': False, 'apple/region': 'ITS', 'simLock': False, 'fmiOn': True, 'replaced': False, 'warrantyStatus': 'Out Of Warranty', 'repairCoverage': False, 'technicalSupport': False, 'apple/modelName': 'iPhone 12 Pro Max', 'loaner': False, 'lostMode': False, 'usaBlockStatus': 'Clean', 'network': 'China'}}\n"
     ]
    }
   ],
   "source": [
    "# Required Library\n",
    "import requests\n",
    "\n",
    "# Base URL\n",
    "url = 'https://api.imeicheck.net/v1/checks'\n",
    "\n",
    "token = 'sy5woSxuac7xKalljXFjgbB2hCRw7GQLueRtGp1974d8fe72'\n",
    "\n",
    "# Add necessary headers\n",
    "headers = {\n",
    "    'Authorization': 'Bearer ' + token,\n",
    "    'Content-Type': 'application/json'\n",
    "}\n",
    "\n",
    "# Execute request\n",
    "response = requests.get(url, headers=headers)\n",
    "\n",
    "print(*response.json(), sep='\\n')"
   ]
  },
  {
   "cell_type": "markdown",
   "metadata": {},
   "source": [
    "Здорово! Пусть денег нет, но можно увидеть актуальные ответы из прошлого.\n",
    "\n",
    "Посмотрим данные успешной проверки"
   ]
  },
  {
   "cell_type": "code",
   "execution_count": 48,
   "metadata": {},
   "outputs": [
    {
     "data": {
      "text/plain": [
       "{'deviceName': 'iPhone 12 Pro Max 512GB Gold [A2412] [iPhone13,4]',\n",
       " 'image': 'https://sources.imeicheck.net/images/face55f8067fbf4c42ba0d5a22cfd9a5.png',\n",
       " 'imei': '356735111052198',\n",
       " 'imei2': '356735111256724',\n",
       " 'serial': 'G6TDN2RS0D5Q',\n",
       " 'meid': '35673511105219',\n",
       " 'estPurchaseDate': 1605225600,\n",
       " 'modelDesc': 'IPHONE 12 PRO MAX GOLD 512GB-ITS',\n",
       " 'replacement': False,\n",
       " 'demoUnit': False,\n",
       " 'refurbished': False,\n",
       " 'apple/region': 'ITS',\n",
       " 'simLock': False,\n",
       " 'fmiOn': True,\n",
       " 'replaced': False,\n",
       " 'warrantyStatus': 'Out Of Warranty',\n",
       " 'repairCoverage': False,\n",
       " 'technicalSupport': False,\n",
       " 'apple/modelName': 'iPhone 12 Pro Max',\n",
       " 'loaner': False,\n",
       " 'lostMode': False,\n",
       " 'usaBlockStatus': 'Clean',\n",
       " 'network': 'China'}"
      ]
     },
     "execution_count": 48,
     "metadata": {},
     "output_type": "execute_result"
    }
   ],
   "source": [
    "response.json()[1]['properties']"
   ]
  },
  {
   "cell_type": "markdown",
   "metadata": {},
   "source": [
    "Прекрасно! Имея эти данные, мы можем форматировать вывод."
   ]
  },
  {
   "cell_type": "code",
   "execution_count": 52,
   "metadata": {},
   "outputs": [
    {
     "data": {
      "text/plain": [
       "True"
      ]
     },
     "execution_count": 52,
     "metadata": {},
     "output_type": "execute_result"
    }
   ],
   "source": []
  }
 ],
 "metadata": {
  "kernelspec": {
   "display_name": "Python 3",
   "language": "python",
   "name": "python3"
  },
  "language_info": {
   "codemirror_mode": {
    "name": "ipython",
    "version": 3
   },
   "file_extension": ".py",
   "mimetype": "text/x-python",
   "name": "python",
   "nbconvert_exporter": "python",
   "pygments_lexer": "ipython3",
   "version": "3.12.6"
  }
 },
 "nbformat": 4,
 "nbformat_minor": 2
}
